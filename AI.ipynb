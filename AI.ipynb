{
 "metadata": {
  "language_info": {
   "codemirror_mode": {
    "name": "ipython",
    "version": 3
   },
   "file_extension": ".py",
   "mimetype": "text/x-python",
   "name": "python",
   "nbconvert_exporter": "python",
   "pygments_lexer": "ipython3",
   "version": "2.7.16-final"
  },
  "orig_nbformat": 2,
  "kernelspec": {
   "name": "python3",
   "language": "python",
   "display_name": "Python 3"
  }
 },
 "nbformat": 4,
 "nbformat_minor": 2,
 "cells": [
  {
   "cell_type": "code",
   "execution_count": 3,
   "metadata": {},
   "outputs": [
    {
     "name": "stdout",
     "output_type": "stream",
     "text": [
      "hello word\n"
     ]
    }
   ],
   "source": [
    "print ('hello word')"
   ]
  },
  {
   "cell_type": "code",
   "execution_count": 4,
   "metadata": {},
   "outputs": [
    {
     "data": {
      "text/plain": "<Figure size 432x288 with 1 Axes>",
      "image/png": "[encoded data removed]"
     },
     "metadata": {
      "needs_background": "light"
     },
     "output_type": "display_data"
    }
   ],
   "source": [
    "%matplotlib inline\n",
    "\n",
    "import matplotlib.pyplot as plt\n",
    "\n",
    "plt.plot([1, 2, 3, 4], [1, 2, 5, 4])\n",
    "plt.show()"
   ]
  },
  {
   "cell_type": "code",
   "execution_count": 23,
   "metadata": {},
   "outputs": [
    {
     "name": "stdout",
     "output_type": "stream",
     "text": [
      "[{\"id\": \"Z-V75dd2OYECQwjvwoAoPw\", \"url\": \"https://www.yelp.com/biz/gaucho-parrilla-argentina-pittsburgh?adjust_creative=6BbY9J2XrUYEHv0uaK955w&hrid=Z-V75dd2OYECQwjvwoAoPw&utm_campaign=yelp_api_v3&utm_medium=api_v3_business_reviews&utm_source=6BbY9J2XrUYEHv0uaK955w\", \"text\": \"I came here for Happy Hour today and was very surprised at how big the new space is. It's beautiful and very open. It's perfect for social distancing. I...\", \"rating\": 5, \"time_created\": \"2020-09-17 17:14:10\", \"user\": {\"id\": \"ikSOnLqwLxInoBeiRguuqQ\", \"profile_url\": \"https://www.yelp.com/user_details?userid=ikSOnLqwLxInoBeiRguuqQ\", \"image_url\": \"https://s3-media4.fl.yelpcdn.com/photo/oJYPJeCxftucAeMkYx0UEw/o.jpg\", \"name\": \"Sue T.\"}}, {\"id\": \"LD0DxTPFlOBeMwojQQRpwg\", \"url\": \"https://www.yelp.com/biz/gaucho-parrilla-argentina-pittsburgh?adjust_creative=6BbY9J2XrUYEHv0uaK955w&hrid=LD0DxTPFlOBeMwojQQRpwg&utm_campaign=yelp_api_v3&utm_medium=api_v3_business_reviews&utm_source=6BbY9J2XrUYEHv0uaK955w\", \"text\": \"Great Steaks, pork chops, chicken, basically any protein you can think of that can be grilled, cooked over a open wood grill, you just can't beat this...\", \"rating\": 5, \"time_created\": \"2020-07-20 17:36:04\", \"user\": {\"id\": \"4L4LU_X-IJE6josAe0-V0A\", \"profile_url\": \"https://www.yelp.com/user_details?userid=4L4LU_X-IJE6josAe0-V0A\", \"image_url\": \"https://s3-media2.fl.yelpcdn.com/photo/OR1_dumt7HfP0lfL7h7olw/o.jpg\", \"name\": \"Justin H.\"}}, {\"id\": \"gOeu6TGqSV40T8qFj4BrkA\", \"url\": \"https://www.yelp.com/biz/gaucho-parrilla-argentina-pittsburgh?adjust_creative=6BbY9J2XrUYEHv0uaK955w&hrid=gOeu6TGqSV40T8qFj4BrkA&utm_campaign=yelp_api_v3&utm_medium=api_v3_business_reviews&utm_source=6BbY9J2XrUYEHv0uaK955w\", \"text\": \"We ordered online takeout yesterday and were so pleased with the experience. Orders without beer were on a table in an open window (clearly labeled) for an...\", \"rating\": 5, \"time_created\": \"2020-09-03 17:58:18\", \"user\": {\"id\": \"zPwZQEVmFg9cbmsEwLpA6g\", \"profile_url\": \"https://www.yelp.com/user_details?userid=zPwZQEVmFg9cbmsEwLpA6g\", \"image_url\": \"https://s3-media3.fl.yelpcdn.com/photo/KRdpu3rcpgt3e1JA1jN1fA/o.jpg\", \"name\": \"Madeline V.\"}}]\n"
     ]
    }
   ],
   "source": [
    "import requests\n",
    "import json\n",
    "\n",
    "# A business in Pittsburgh\n",
    "business_id = 'u4sTiCzVeIHZY8OlaL346Q'\n",
    "\n",
    "unix_time = 1546047836\n",
    "\n",
    "GET_ALL_RESTAURANT = 'https://api.yelp.com/v3/businesses/search'\n",
    "\n",
    "# Define my API Key, My Endpoint, and My Header\n",
    "API_KEY = '_h1ZDN4fbjYfpsC7rKWg7WwPMvGK6zbX5nqFTfBCs0IxMFJCpm-DXtQ_xLn3y5a9DXLNBxF-6r-FvzQmpem9eXhlWuRo2UrppIpdlhDAruH6MasgoehjK0nqvO66X3Yx'\n",
    "ENDPOINT = 'https://api.yelp.com/v3/businesses/{}/reviews'.format(business_id)\n",
    "\n",
    "#API_KEY is your key copied from Yelp account: new App\n",
    "\n",
    "HEADERS = {'Authorization': 'bearer %s' % API_KEY}\n",
    "\n",
    "# Define my parameters of the search\n",
    "# BUSINESS SEARCH PARAMETERS - EXAMPLE\n",
    "PARAMETERS = {\n",
    "              # 'term': 'food',\n",
    "              #'limit': 5,\n",
    "              # 'offset': 50,\n",
    "              # 'radius': 10000,\n",
    "             'location': 'Pittsburgh'\n",
    "             }\n",
    "\n",
    "# Make a request to the Yelp API\n",
    "response = requests.get(url = ENDPOINT,\n",
    "                        params = PARAMETERS,\n",
    "                        headers = HEADERS)\n",
    "\n",
    "# Conver the JSON String\n",
    "business_data = response.json()\n",
    "\n",
    "# print the response\n",
    "print (json.dumps(business_data.get(\"reviews\")))"
   ]
  },
  {
   "cell_type": "code",
   "execution_count": null,
   "outputs": [],
   "source": [],
   "metadata": {
    "collapsed": false,
    "pycharm": {
     "name": "#%%\n"
    }
   }
  }
 ]
}